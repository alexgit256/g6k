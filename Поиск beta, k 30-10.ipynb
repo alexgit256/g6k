{
 "cells": [
  {
   "cell_type": "code",
   "execution_count": 2,
   "metadata": {},
   "outputs": [],
   "source": [
    "def H_delta(x, evaluate=0):\n",
    "    #эвристика beta-root Hermite factor\n",
    "    tmp =( x/(2*pi*e)*(pi*x)^(1/x) )^(1/(2*(x-1)))\n",
    "    if evaluate>0:\n",
    "        return tmp.n(evaluate)\n",
    "    return tmp"
   ]
  },
  {
   "cell_type": "code",
   "execution_count": 3,
   "metadata": {},
   "outputs": [],
   "source": [
    "def left_side(q,n,k):\n",
    "    return 1/(k*(3*k-1))*(k/2*log(k/2/pi/e,2)+k*log(q,2)-n*log(n/2,2))\n"
   ]
  },
  {
   "cell_type": "code",
   "execution_count": 13,
   "metadata": {},
   "outputs": [
    {
     "name": "stdout",
     "output_type": "stream",
     "text": [
      "1024 5.08012100478171e12 42.2080000000000\n",
      "checkin beta=  5\n",
      "found! 5 111\n",
      "checkin beta=  6\n",
      "found! 6 126\n",
      "checkin beta=  7\n",
      "found! 7 140\n",
      "checkin beta=  8\n",
      "found! 8 153\n",
      "checkin beta=  9\n",
      "found! 9 166\n",
      "checkin beta=  10\n",
      "found! 10 178\n",
      "checkin beta=  11\n",
      "found! 11 190\n",
      "checkin beta=  12\n",
      "found! 12 201\n",
      "checkin beta=  13\n",
      "found! 13 212\n",
      "checkin beta=  14\n",
      "found! 14 223\n",
      "checkin beta=  15\n",
      "found! 15 234\n",
      "checkin beta=  16\n",
      "found! 16 244\n",
      "checkin beta=  17\n",
      "found! 17 254\n",
      "checkin beta=  18\n",
      "found! 18 265\n",
      "checkin beta=  19\n",
      "found! 19 275\n",
      "checkin beta=  20\n",
      "found! 20 285\n",
      "checkin beta=  21\n",
      "found! 21 294\n",
      "checkin beta=  22\n",
      "found! 22 304\n",
      "checkin beta=  23\n",
      "found! 23 314\n",
      "checkin beta=  24\n",
      "found! 24 323\n",
      "checkin beta=  25\n",
      "found! 25 333\n",
      "checkin beta=  26\n",
      "found! 26 343\n",
      "checkin beta=  27\n",
      "found! 27 353\n",
      "checkin beta=  28\n",
      "found! 28 363\n",
      "checkin beta=  29\n",
      "found! 29 374\n",
      "checkin beta=  30\n",
      "found! 30 386\n",
      "checkin beta=  31\n",
      "found! 31 401\n",
      "checkin beta=  32\n",
      "checkin beta=  33\n",
      "checkin beta=  34\n",
      "checkin beta=  35\n",
      "checkin beta=  36\n",
      "checkin beta=  37\n",
      "checkin beta=  38\n",
      "checkin beta=  39\n",
      "checkin beta=  40\n",
      "checkin beta=  41\n",
      "found! 41 417\n",
      "checkin beta=  42\n",
      "found! 42 399\n",
      "checkin beta=  43\n",
      "found! 43 390\n",
      "checkin beta=  44\n",
      "found! 44 383\n",
      "checkin beta=  45\n",
      "found! 45 377\n",
      "checkin beta=  46\n",
      "found! 46 372\n",
      "checkin beta=  47\n",
      "found! 47 367\n",
      "checkin beta=  48\n",
      "found! 48 362\n",
      "checkin beta=  49\n",
      "found! 49 358\n",
      "checkin beta=  50\n",
      "found! 50 354\n",
      "checkin beta=  51\n",
      "found! 51 351\n",
      "checkin beta=  52\n",
      "found! 52 347\n",
      "checkin beta=  53\n",
      "found! 53 344\n",
      "checkin beta=  54\n",
      "found! 54 341\n",
      "checkin beta=  55\n",
      "found! 55 338\n"
     ]
    }
   ],
   "source": [
    "n=1024\n",
    "gamma=1/20*10\n",
    "q=2^(1.319*n^(gamma)).n()\n",
    "\n",
    "flag=0\n",
    "min_beta=Infinity\n",
    "print(n,q,log(q,2))\n",
    "\n",
    "for beta_ in range(5,n):\n",
    "    print(\"checkin beta= \", beta_)\n",
    "    for k in range(beta_,n):  \n",
    "        #if k%500==0:\n",
    "        #    print('processing', k)\n",
    "        #    print(tmp.n(),tmp2.n(),beta_,k )\n",
    "        tmp=left_side(q,n,k)\n",
    "        tmp2=log(H_delta(beta_),2)\n",
    "        \n",
    "        if(tmp>=tmp2):\n",
    "            print(\"found!\", beta_,k)\n",
    "            flag+=1\n",
    "            break\n",
    "    if flag==42:\n",
    "        break"
   ]
  },
  {
   "cell_type": "code",
   "execution_count": 14,
   "metadata": {},
   "outputs": [
    {
     "data": {
      "text/plain": [
       "175.205519519855"
      ]
     },
     "execution_count": 14,
     "metadata": {},
     "output_type": "execute_result"
    }
   ],
   "source": [
    "def min_norm_est(n,k=n):\n",
    "    vol=(n/2)^(n/2)\n",
    "    return sqrt(n/2/pi/e)*vol^(1/n)\n",
    "\n",
    "min_norm_est(1024).n()"
   ]
  },
  {
   "cell_type": "code",
   "execution_count": 16,
   "metadata": {},
   "outputs": [
    {
     "name": "stdout",
     "output_type": "stream",
     "text": [
      "1024 4398046511104 42\n",
      "checkin beta=  19\n",
      "found! 19 277\n",
      "checkin beta=  20\n",
      "found! 20 287\n",
      "checkin beta=  21\n",
      "found! 21 298\n"
     ]
    }
   ],
   "source": [
    "n=1024\n",
    "q=2^42\n",
    "\n",
    "flag=0\n",
    "min_beta=Infinity\n",
    "print(n,q,log(q,2))\n",
    "\n",
    "for beta_ in range(19,n):\n",
    "    print(\"checkin beta= \", beta_)\n",
    "    for k in range(beta_,n):  \n",
    "        #if k%500==0:\n",
    "        #    print('processing', k)\n",
    "        #    print(tmp.n(),tmp2.n(),beta_,k )\n",
    "        tmp=left_side(q,n,k)\n",
    "        tmp2=log(H_delta(beta_),2)\n",
    "        \n",
    "        if(tmp>=tmp2):\n",
    "            print(\"found!\", beta_,k)\n",
    "            flag+=1\n",
    "            break\n",
    "    if flag==3:\n",
    "        break"
   ]
  },
  {
   "cell_type": "code",
   "execution_count": null,
   "metadata": {},
   "outputs": [],
   "source": []
  }
 ],
 "metadata": {
  "kernelspec": {
   "display_name": "SageMath 9.1",
   "language": "sage",
   "name": "sagemath"
  },
  "language_info": {
   "codemirror_mode": {
    "name": "ipython",
    "version": 3
   },
   "file_extension": ".py",
   "mimetype": "text/x-python",
   "name": "python",
   "nbconvert_exporter": "python",
   "pygments_lexer": "ipython3",
   "version": "3.7.3"
  }
 },
 "nbformat": 4,
 "nbformat_minor": 2
}
